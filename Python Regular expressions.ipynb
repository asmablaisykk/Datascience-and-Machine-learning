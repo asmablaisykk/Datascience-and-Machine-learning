{
  "nbformat": 4,
  "nbformat_minor": 0,
  "metadata": {
    "colab": {
      "provenance": []
    },
    "kernelspec": {
      "name": "python3",
      "display_name": "Python 3"
    },
    "language_info": {
      "name": "python"
    }
  },
  "cells": [
    {
      "cell_type": "markdown",
      "source": [
        "1. Write a Python program to check that a string contains only a certain set of characters (in this case a-z, A-Z and 0-9).\n",
        "\n"
      ],
      "metadata": {
        "id": "fpQX9wBhb6ox"
      }
    },
    {
      "cell_type": "markdown",
      "source": [
        "# New Section"
      ],
      "metadata": {
        "id": "Ve2iX2_fYHLB"
      }
    },
    {
      "cell_type": "code",
      "execution_count": null,
      "metadata": {
        "id": "5HKhizIkbt59",
        "outputId": "86e7613f-64d5-458f-9031-a8e591ef7de5",
        "colab": {
          "base_uri": "https://localhost:8080/"
        }
      },
      "outputs": [
        {
          "output_type": "stream",
          "name": "stdout",
          "text": [
            "text contain some special characters\n"
          ]
        }
      ],
      "source": [
        "import re\n",
        "text = \"asmablaisy1234@>34%\"\n",
        "pattern = r'^[a-zA-Z0-9]+$'\n",
        "if re.match(pattern, text):\n",
        "  print(\"text does'nt have any special characters\")\n",
        "else:\n",
        "  print(\"text contain some special characters\")"
      ]
    },
    {
      "cell_type": "markdown",
      "source": [
        "2. Write a Python program that matches a string that has an a followed by zero or more b's.\n",
        "\n"
      ],
      "metadata": {
        "id": "rtdxRzltcRtS"
      }
    },
    {
      "cell_type": "code",
      "source": [
        "import re\n",
        "text = \"abcd is a seminar about abuse and alcohol use\"\n",
        "pattern = r'\\s[ab*]'\n",
        "match = re.findall(pattern, text)\n",
        "if match:\n",
        "  print(\"yes,there are matches\",match)\n",
        "else:\n",
        "  print(\"No, there is no match\")"
      ],
      "metadata": {
        "id": "ZjdCBYZAcZGl",
        "outputId": "fd784e8e-ade5-4d24-c8ae-8d28f4feaaa9",
        "colab": {
          "base_uri": "https://localhost:8080/"
        }
      },
      "execution_count": null,
      "outputs": [
        {
          "output_type": "stream",
          "name": "stdout",
          "text": [
            "yes,there are matches [' a', ' a', ' a', ' a', ' a']\n"
          ]
        }
      ]
    },
    {
      "cell_type": "markdown",
      "source": [
        "3. Replace only the first occurrence of 5 with five for the given string\n",
        "\n"
      ],
      "metadata": {
        "id": "kyvbz3eNcZri"
      }
    },
    {
      "cell_type": "code",
      "source": [
        "ip = 'They ate 5 apples and 5 oranges'\n",
        "print(re.sub(r'5', r'five' ,ip,1))"
      ],
      "metadata": {
        "id": "pgZy45dxcqSg",
        "outputId": "b222a100-6c1c-42f2-cb08-8f7473d58eaa",
        "colab": {
          "base_uri": "https://localhost:8080/"
        }
      },
      "execution_count": null,
      "outputs": [
        {
          "output_type": "stream",
          "name": "stdout",
          "text": [
            "They ate five apples and 5 oranges\n"
          ]
        }
      ]
    },
    {
      "cell_type": "markdown",
      "source": [
        "4. Write a Python program that matches a string that has an a followed by three 'b'.\n",
        "\n"
      ],
      "metadata": {
        "id": "h_b1-o6ncuzM"
      }
    },
    {
      "cell_type": "code",
      "source": [
        "import re\n",
        "text = \"hi how are you abbb\"\n",
        "pattern = r'a{1}b{3}'\n",
        "match=re.search(pattern, text)\n",
        "if match:\n",
        "  print(\"Yes there is a match\")\n",
        "  print(match)\n",
        "else:\n",
        "  print(\"No, there is no match\")"
      ],
      "metadata": {
        "id": "eWIRl3LccqwE",
        "outputId": "65a112a8-1a77-4dbd-e453-14a083ead7ee",
        "colab": {
          "base_uri": "https://localhost:8080/"
        }
      },
      "execution_count": null,
      "outputs": [
        {
          "output_type": "stream",
          "name": "stdout",
          "text": [
            "Yes there is a match\n",
            "<re.Match object; span=(15, 19), match='abbb'>\n"
          ]
        }
      ]
    },
    {
      "cell_type": "markdown",
      "source": [
        "5. Write a Python program that matches a string that has an 'a' followed by anything ending in 'b'.\n",
        "\n"
      ],
      "metadata": {
        "id": "K2vPe01bc2LN"
      }
    },
    {
      "cell_type": "code",
      "source": [
        "import re\n",
        "text = \"ajhgfdb\"\n",
        "pattern = r'a.*b$'\n",
        "match= re.search(pattern, text)\n",
        "if match:\n",
        "  print(\"yes, match found\")\n",
        "  print(match)\n",
        "else:\n",
        "  print(\"no, match not found\")\n"
      ],
      "metadata": {
        "id": "f8KfX59qc3UJ",
        "outputId": "71f94301-6312-4a97-9505-54aab503ccac",
        "colab": {
          "base_uri": "https://localhost:8080/"
        }
      },
      "execution_count": null,
      "outputs": [
        {
          "output_type": "stream",
          "name": "stdout",
          "text": [
            "yes, match found\n",
            "<re.Match object; span=(0, 7), match='ajhgfdb'>\n"
          ]
        }
      ]
    },
    {
      "cell_type": "markdown",
      "source": [
        "6. Write a Python program to search for numbers (0-9) of length between 1 and 3 in a given string."
      ],
      "metadata": {
        "id": "NyL-DhqXdZi7"
      }
    },
    {
      "cell_type": "code",
      "source": [
        "import re\n",
        "text=\"Exercises number 1, 12, 13, and 345 are important\"\n",
        "pattern = r'[0-9]{1,3}'\n",
        "match=re.findall(pattern, text)\n",
        "print(match)\n"
      ],
      "metadata": {
        "id": "pWsu0HljdnKX",
        "outputId": "4c71ea6c-be94-4cc2-b5b8-3d8a296aed84",
        "colab": {
          "base_uri": "https://localhost:8080/"
        }
      },
      "execution_count": null,
      "outputs": [
        {
          "output_type": "stream",
          "name": "stdout",
          "text": [
            "['1', '12', '13', '345']\n"
          ]
        }
      ]
    },
    {
      "cell_type": "markdown",
      "source": [
        "7. Write a Python program to search for literal strings within a string.\\\n",
        "Sample text : 'The quick brown fox jumps over the lazy dog.' \\\n",
        "Searched words : 'fox', 'dog', 'horse'"
      ],
      "metadata": {
        "id": "aWaHWXFjdqy7"
      }
    },
    {
      "cell_type": "code",
      "source": [
        "import re\n",
        "sample_text=\"the quick brown fox jumps over the lazy dog\"\n",
        "searched_words= ['fox','dog','horse']\n",
        "for word in searched_words:\n",
        "  pattern = re.escape(word)\n",
        "  if re.search(pattern, sample_text):\n",
        "    print(f\"'{word}' is in the sample test\")\n",
        "  else:\n",
        "    print(f\"'{word} is not in the sample test\")"
      ],
      "metadata": {
        "id": "bVAMeTMddnmf",
        "outputId": "65441a93-1fc6-4028-af22-b66a9db64a5c",
        "colab": {
          "base_uri": "https://localhost:8080/"
        }
      },
      "execution_count": null,
      "outputs": [
        {
          "output_type": "stream",
          "name": "stdout",
          "text": [
            "'fox' is in the sample test\n",
            "'dog' is in the sample test\n",
            "'horse is not in the sample test\n"
          ]
        }
      ]
    },
    {
      "cell_type": "markdown",
      "source": [
        "8. Write a Python program to search for a literal string in a string and also find the location within the original string where the pattern occurs.\n",
        "\n",
        "Sample text : 'The quick brown fox jumps over the lazy dog.' \\\n",
        "Searched words : 'fox'"
      ],
      "metadata": {
        "id": "2cgZLc6Yd0sE"
      }
    },
    {
      "cell_type": "code",
      "source": [
        "import re\n",
        "sample_text= \"The quick brown fox jumps over the lazy dog\"\n",
        "searched_word= \"fox\"\n",
        "location=sample_text.find(searched_word)\n",
        "if location != -1:\n",
        "  print(f\"'{searched_word}'founded at position{location} in the text\")\n",
        "else:\n",
        "  print(f\"'{searched_word}'not found in the text\")"
      ],
      "metadata": {
        "id": "Tj1FCCx4d3zZ",
        "outputId": "12322870-d06c-46cd-e845-3bb4fa7ae076",
        "colab": {
          "base_uri": "https://localhost:8080/"
        }
      },
      "execution_count": null,
      "outputs": [
        {
          "output_type": "stream",
          "name": "stdout",
          "text": [
            "'fox'founded at position16 in the text\n"
          ]
        }
      ]
    },
    {
      "cell_type": "markdown",
      "source": [
        "9.  Write a Python program to extract year, month and date from an URL"
      ],
      "metadata": {
        "id": "ixuwdsnvdtcP"
      }
    },
    {
      "cell_type": "code",
      "source": [
        "import re\n",
        "url1= \"https://www.washingtonpost.com/news/football-insider/wp/2016/09/02/odell-beckhams-fame-rests-on-one-stupid-little-ball-josh-norman-tells-author/\"\n",
        "date_format= r'(\\d{4})/(\\d{2})/(\\d{2})/'\n",
        "match=re.search(date_format, url1)\n",
        "if match:\n",
        "  year = match.group(1)\n",
        "  month= match.group(2)\n",
        "  day = match.group(3)\n",
        "  print(f\"year: {year}\")\n",
        "  print(f\"month : {month}\")\n",
        "  print(f\"day : {day}\")\n",
        "else:\n",
        "  print(\"date format not found in url\")"
      ],
      "metadata": {
        "id": "uWA2_OfJeFpw",
        "outputId": "8f4bb03a-f1ba-4f4d-c8d6-24ba82e746a9",
        "colab": {
          "base_uri": "https://localhost:8080/"
        }
      },
      "execution_count": null,
      "outputs": [
        {
          "output_type": "stream",
          "name": "stdout",
          "text": [
            "year: 2016\n",
            "month : 09\n",
            "day : 02\n"
          ]
        }
      ]
    },
    {
      "cell_type": "markdown",
      "source": [
        "10. Write a Python program to find URLs in a string.\n",
        "\n"
      ],
      "metadata": {
        "id": "Qdob8Ojkea-W"
      }
    },
    {
      "cell_type": "code",
      "source": [
        "import re\n",
        "text = '<p>Contents :</p><a href=\"https://w3resource.com\">Python Examples</a><a href=\"http://github.com\">Even More Examples</a>'\n",
        "url_pattern= r'http?://[^\\s< >\"]+|www\\.[^\\s< >\"]+'\n",
        "find_string=re.findall(url_pattern, text)\n",
        "for url in find_string:\n",
        "  print(url)"
      ],
      "metadata": {
        "id": "d9KUcdQEeIJu",
        "outputId": "ef8b19dd-3847-4403-9afb-eb694498be39",
        "colab": {
          "base_uri": "https://localhost:8080/"
        }
      },
      "execution_count": null,
      "outputs": [
        {
          "output_type": "stream",
          "name": "stdout",
          "text": [
            "http://github.com\n"
          ]
        }
      ]
    },
    {
      "cell_type": "markdown",
      "source": [
        "11. Write a Python program to remove the parenthesis area in a string.\\\n",
        "\n",
        "Sample data : [\"example (.com)\", \"w3resource\", \"github (.com)\", \"stackoverflow (.com)\"] \\\n",
        "Expected Output: \\\n",
        "example  \\\n",
        "w3resource \\\n",
        "github  \\\n",
        "stackoverflow. \\\n",
        "\n"
      ],
      "metadata": {
        "id": "5mX_cCEFepSi"
      }
    },
    {
      "cell_type": "code",
      "source": [
        "import re\n",
        "sample_data = [\"example (.com)\", \"w3resource\",\"github (.com)\",\"stackoverflow (.com)\"]\n",
        "for data in sample_data:\n",
        "  new_data = re.sub(r'\\s*\\([^)]*\\)','', data)\n",
        "  print(new_data)"
      ],
      "metadata": {
        "id": "CNYOSWfLee_M",
        "outputId": "a571d958-0402-4d4c-ec17-101db7224ae6",
        "colab": {
          "base_uri": "https://localhost:8080/"
        }
      },
      "execution_count": null,
      "outputs": [
        {
          "output_type": "stream",
          "name": "stdout",
          "text": [
            "example\n",
            "w3resource\n",
            "github\n",
            "stackoverflow\n"
          ]
        }
      ]
    },
    {
      "cell_type": "markdown",
      "source": [
        "12. Write a Python program to concatenate the consecutive numbers in a given string. \\\n",
        "\n",
        "Original string:  \\\n",
        "Enter at 1 20 Kearny Street. The security desk can direct you to floor 1 6. Please have your identification ready.  \\\n",
        "\n",
        "After concatenating the consecutive numbers in the said string:  \\\n",
        "Enter at 120 Kearny Street. The security desk can direct you to floor 16. Please have your identification ready."
      ],
      "metadata": {
        "id": "sRhveFHXe7nz"
      }
    },
    {
      "cell_type": "code",
      "source": [
        "import re\n",
        "original_string = \"Enter at 1 20 Kearny Street. The security desk can direct you to floor 1 6. Please have your identification ready.\"\n",
        "pattern = r'(\\d+)\\s+(\\d+)'\n",
        "\n",
        "new_string = re.sub(pattern, r'\\1\\2',original_string)\n",
        "print(\"modified string is : \",new_string)"
      ],
      "metadata": {
        "id": "4dcBL0RTe_zP",
        "outputId": "6147d59f-a3ae-4a7b-e525-0e4e362ad245",
        "colab": {
          "base_uri": "https://localhost:8080/"
        }
      },
      "execution_count": null,
      "outputs": [
        {
          "output_type": "stream",
          "name": "stdout",
          "text": [
            "modified string is :  Enter at 120 Kearny Street. The security desk can direct you to floor 16. Please have your identification ready.\n"
          ]
        }
      ]
    },
    {
      "cell_type": "markdown",
      "source": [],
      "metadata": {
        "id": "rENrD10afBB3"
      }
    }
  ]
}